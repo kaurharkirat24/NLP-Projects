{
 "cells": [
  {
   "cell_type": "code",
   "execution_count": 1,
   "id": "3c3b4738-d555-45ec-b525-de9f4234b8e0",
   "metadata": {},
   "outputs": [
    {
     "name": "stdout",
     "output_type": "stream",
     "text": [
      "(12695, 2)\n"
     ]
    },
    {
     "data": {
      "text/html": [
       "<div>\n",
       "<style scoped>\n",
       "    .dataframe tbody tr th:only-of-type {\n",
       "        vertical-align: middle;\n",
       "    }\n",
       "\n",
       "    .dataframe tbody tr th {\n",
       "        vertical-align: top;\n",
       "    }\n",
       "\n",
       "    .dataframe thead th {\n",
       "        text-align: right;\n",
       "    }\n",
       "</style>\n",
       "<table border=\"1\" class=\"dataframe\">\n",
       "  <thead>\n",
       "    <tr style=\"text-align: right;\">\n",
       "      <th></th>\n",
       "      <th>text</th>\n",
       "      <th>category</th>\n",
       "    </tr>\n",
       "  </thead>\n",
       "  <tbody>\n",
       "    <tr>\n",
       "      <th>0</th>\n",
       "      <td>Watching Schrödinger's Cat Die University of C...</td>\n",
       "      <td>SCIENCE</td>\n",
       "    </tr>\n",
       "    <tr>\n",
       "      <th>1</th>\n",
       "      <td>WATCH: Freaky Vortex Opens Up In Flooded Lake</td>\n",
       "      <td>SCIENCE</td>\n",
       "    </tr>\n",
       "    <tr>\n",
       "      <th>2</th>\n",
       "      <td>Entrepreneurs Today Don't Need a Big Budget to...</td>\n",
       "      <td>BUSINESS</td>\n",
       "    </tr>\n",
       "    <tr>\n",
       "      <th>3</th>\n",
       "      <td>These Roads Could Recharge Your Electric Car A...</td>\n",
       "      <td>BUSINESS</td>\n",
       "    </tr>\n",
       "    <tr>\n",
       "      <th>4</th>\n",
       "      <td>Civilian 'Guard' Fires Gun While 'Protecting' ...</td>\n",
       "      <td>CRIME</td>\n",
       "    </tr>\n",
       "  </tbody>\n",
       "</table>\n",
       "</div>"
      ],
      "text/plain": [
       "                                                text  category\n",
       "0  Watching Schrödinger's Cat Die University of C...   SCIENCE\n",
       "1     WATCH: Freaky Vortex Opens Up In Flooded Lake    SCIENCE\n",
       "2  Entrepreneurs Today Don't Need a Big Budget to...  BUSINESS\n",
       "3  These Roads Could Recharge Your Electric Car A...  BUSINESS\n",
       "4  Civilian 'Guard' Fires Gun While 'Protecting' ...     CRIME"
      ]
     },
     "execution_count": 1,
     "metadata": {},
     "output_type": "execute_result"
    }
   ],
   "source": [
    "import pandas as pd\n",
    "\n",
    "df= pd.read_json('news_dataset.json')\n",
    "print(df.shape)\n",
    "df.head()"
   ]
  },
  {
   "cell_type": "code",
   "execution_count": 2,
   "id": "de8b2382-7bb0-41d6-a504-c8fb4c1634b2",
   "metadata": {},
   "outputs": [
    {
     "data": {
      "text/plain": [
       "category\n",
       "BUSINESS    4254\n",
       "SPORTS      4167\n",
       "CRIME       2893\n",
       "SCIENCE     1381\n",
       "Name: count, dtype: int64"
      ]
     },
     "execution_count": 2,
     "metadata": {},
     "output_type": "execute_result"
    }
   ],
   "source": [
    "df.category.value_counts()"
   ]
  },
  {
   "cell_type": "markdown",
   "id": "f2156ab2-b579-4a0a-a034-53df422f614a",
   "metadata": {},
   "source": [
    "**Handling imbalanced dataset using Undersampling**"
   ]
  },
  {
   "cell_type": "code",
   "execution_count": 3,
   "id": "2043eba6-3335-468b-84a6-00312eccaacf",
   "metadata": {},
   "outputs": [],
   "source": [
    "min_samples= 1381         #SCIENCE is the minority class\n",
    "\n",
    "df_business=df[df.category==\"BUSINESS\"].sample(min_samples,random_state=0)\n",
    "df_sports=df[df.category==\"SPORTS\"].sample(min_samples,random_state=0)\n",
    "df_crime=df[df.category==\"CRIME\"].sample(min_samples,random_state=0)\n",
    "df_science=df[df.category==\"SCIENCE\"].sample(min_samples,random_state=0)"
   ]
  },
  {
   "cell_type": "code",
   "execution_count": 4,
   "id": "d475dc5c-fc47-40f2-a78d-66efcdefdf33",
   "metadata": {},
   "outputs": [
    {
     "data": {
      "text/plain": [
       "category\n",
       "BUSINESS    1381\n",
       "SPORTS      1381\n",
       "CRIME       1381\n",
       "SCIENCE     1381\n",
       "Name: count, dtype: int64"
      ]
     },
     "execution_count": 4,
     "metadata": {},
     "output_type": "execute_result"
    }
   ],
   "source": [
    "df_balanced= pd.concat([df_business,df_sports,df_crime,df_science],axis=0)\n",
    "df_balanced.category.value_counts()"
   ]
  },
  {
   "cell_type": "markdown",
   "id": "e20b9bee-e37d-4c52-8ee7-7dd324f760fd",
   "metadata": {},
   "source": [
    "**Convert text category to number**"
   ]
  },
  {
   "cell_type": "code",
   "execution_count": 5,
   "id": "e56ba6df-63e4-44d7-9df8-94ba65f6c96a",
   "metadata": {},
   "outputs": [],
   "source": [
    "df_balanced['category_num']=df_balanced.category.map({\n",
    "    'BUSINESS':0,\n",
    "    'SPORTS':1,\n",
    "    'CRIME':2,\n",
    "    'SCIENCE':4\n",
    "})"
   ]
  },
  {
   "cell_type": "code",
   "execution_count": 6,
   "id": "bdfa517c-9b49-4578-b39c-9ef02082dd13",
   "metadata": {},
   "outputs": [
    {
     "data": {
      "text/html": [
       "<div>\n",
       "<style scoped>\n",
       "    .dataframe tbody tr th:only-of-type {\n",
       "        vertical-align: middle;\n",
       "    }\n",
       "\n",
       "    .dataframe tbody tr th {\n",
       "        vertical-align: top;\n",
       "    }\n",
       "\n",
       "    .dataframe thead th {\n",
       "        text-align: right;\n",
       "    }\n",
       "</style>\n",
       "<table border=\"1\" class=\"dataframe\">\n",
       "  <thead>\n",
       "    <tr style=\"text-align: right;\">\n",
       "      <th></th>\n",
       "      <th>text</th>\n",
       "      <th>category</th>\n",
       "      <th>category_num</th>\n",
       "    </tr>\n",
       "  </thead>\n",
       "  <tbody>\n",
       "    <tr>\n",
       "      <th>5790</th>\n",
       "      <td>Recycling Opens the Door to a Circular Economy...</td>\n",
       "      <td>BUSINESS</td>\n",
       "      <td>0</td>\n",
       "    </tr>\n",
       "    <tr>\n",
       "      <th>6168</th>\n",
       "      <td>Beyond Silicon Valley: Using a MOOC to Build a...</td>\n",
       "      <td>BUSINESS</td>\n",
       "      <td>0</td>\n",
       "    </tr>\n",
       "    <tr>\n",
       "      <th>2965</th>\n",
       "      <td>Obstacles for Women in Business: The Comfort P...</td>\n",
       "      <td>BUSINESS</td>\n",
       "      <td>0</td>\n",
       "    </tr>\n",
       "    <tr>\n",
       "      <th>9320</th>\n",
       "      <td>Tesla Investigating Second Reported Crash In A...</td>\n",
       "      <td>BUSINESS</td>\n",
       "      <td>0</td>\n",
       "    </tr>\n",
       "    <tr>\n",
       "      <th>3743</th>\n",
       "      <td>The Places That Most Desperately Need A Higher...</td>\n",
       "      <td>BUSINESS</td>\n",
       "      <td>0</td>\n",
       "    </tr>\n",
       "  </tbody>\n",
       "</table>\n",
       "</div>"
      ],
      "text/plain": [
       "                                                   text  category  \\\n",
       "5790  Recycling Opens the Door to a Circular Economy...  BUSINESS   \n",
       "6168  Beyond Silicon Valley: Using a MOOC to Build a...  BUSINESS   \n",
       "2965  Obstacles for Women in Business: The Comfort P...  BUSINESS   \n",
       "9320  Tesla Investigating Second Reported Crash In A...  BUSINESS   \n",
       "3743  The Places That Most Desperately Need A Higher...  BUSINESS   \n",
       "\n",
       "      category_num  \n",
       "5790             0  \n",
       "6168             0  \n",
       "2965             0  \n",
       "9320             0  \n",
       "3743             0  "
      ]
     },
     "execution_count": 6,
     "metadata": {},
     "output_type": "execute_result"
    }
   ],
   "source": [
    "df_balanced.head()"
   ]
  },
  {
   "cell_type": "markdown",
   "id": "c3907d79-21a9-499a-93ce-382a19c81810",
   "metadata": {},
   "source": [
    "**Build a model with original text, no preprocessing**"
   ]
  },
  {
   "cell_type": "code",
   "execution_count": 7,
   "id": "fb25b146-f162-4ca9-a05b-d53f8d25fbc1",
   "metadata": {},
   "outputs": [],
   "source": [
    "from sklearn.model_selection import train_test_split\n",
    "X_train, X_test, y_train, y_test= train_test_split(\n",
    "    df_balanced.text,\n",
    "    df_balanced.category_num,\n",
    "    test_size=0.2,\n",
    "    random_state=0,\n",
    "    stratify=df_balanced.category_num\n",
    ")"
   ]
  },
  {
   "cell_type": "markdown",
   "id": "55f09151-b8a9-4999-b140-9aba46d9f2b3",
   "metadata": {},
   "source": [
    "**Attempt 1 : Use 1-gram Bag Of Words (BOW) Model**"
   ]
  },
  {
   "cell_type": "code",
   "execution_count": 8,
   "id": "2b9e54cd-9e0a-4c4c-8567-1712e4c51ae2",
   "metadata": {},
   "outputs": [
    {
     "name": "stdout",
     "output_type": "stream",
     "text": [
      "              precision    recall  f1-score   support\n",
      "\n",
      "           0       0.79      0.87      0.83       277\n",
      "           1       0.90      0.83      0.86       276\n",
      "           2       0.88      0.90      0.89       276\n",
      "           4       0.86      0.82      0.84       276\n",
      "\n",
      "    accuracy                           0.86      1105\n",
      "   macro avg       0.86      0.86      0.86      1105\n",
      "weighted avg       0.86      0.86      0.86      1105\n",
      "\n"
     ]
    }
   ],
   "source": [
    "from sklearn.feature_extraction.text import CountVectorizer\n",
    "from sklearn.naive_bayes import MultinomialNB\n",
    "from sklearn.pipeline import Pipeline\n",
    "from sklearn.metrics import classification_report\n",
    "\n",
    "#Create a pipeline object\n",
    "clf= Pipeline([\n",
    "    ('vectorizer_bow',CountVectorizer(ngram_range=(1,1))),\n",
    "    ('Multi NB',MultinomialNB())\n",
    "])\n",
    "\n",
    "#2. fit with X_train and y_train\n",
    "clf.fit(X_train,y_train)\n",
    "\n",
    "#3. print the classification report\n",
    "y_pred= clf.predict(X_test)\n",
    "\n",
    "#4. print the classificatio report\n",
    "print(classification_report(y_test,y_pred))"
   ]
  },
  {
   "cell_type": "markdown",
   "id": "610032a3-80e9-4258-abd7-6f0f7326453b",
   "metadata": {},
   "source": [
    "**Attempt 2 : Using 1-gram and bigrams**"
   ]
  },
  {
   "cell_type": "code",
   "execution_count": 9,
   "id": "2746558f-9db0-4d45-9c47-3eae17cea02e",
   "metadata": {},
   "outputs": [
    {
     "name": "stdout",
     "output_type": "stream",
     "text": [
      "              precision    recall  f1-score   support\n",
      "\n",
      "           0       0.71      0.91      0.80       277\n",
      "           1       0.92      0.78      0.84       276\n",
      "           2       0.89      0.90      0.89       276\n",
      "           4       0.87      0.76      0.81       276\n",
      "\n",
      "    accuracy                           0.84      1105\n",
      "   macro avg       0.85      0.84      0.84      1105\n",
      "weighted avg       0.85      0.84      0.84      1105\n",
      "\n"
     ]
    }
   ],
   "source": [
    "#1. create a pipeline object\n",
    "clf=Pipeline([\n",
    "    ('vectorizer_1_2_grams',CountVectorizer(ngram_range=(1,2))),\n",
    "    ('Multi NB',MultinomialNB())\n",
    "])\n",
    "\n",
    "#2. fit with X_train and y_train\n",
    "clf.fit(X_train,y_train)\n",
    "\n",
    "#3. get the predictions for X_test and store it in y_pred\n",
    "y_pred= clf.predict(X_test)\n",
    "\n",
    "#4. print the classification report\n",
    "print(classification_report(y_test,y_pred))"
   ]
  },
  {
   "cell_type": "markdown",
   "id": "6fc73c1f-dc18-4a1f-82d3-ac74d23d2194",
   "metadata": {},
   "source": [
    "**Attempt 3 : Use 1-grams to trigrams**"
   ]
  },
  {
   "cell_type": "code",
   "execution_count": 10,
   "id": "b2cb7658-01a9-4411-8e20-88f3dbdbf0d7",
   "metadata": {},
   "outputs": [
    {
     "name": "stdout",
     "output_type": "stream",
     "text": [
      "              precision    recall  f1-score   support\n",
      "\n",
      "           0       0.70      0.93      0.80       277\n",
      "           1       0.93      0.78      0.84       276\n",
      "           2       0.89      0.89      0.89       276\n",
      "           4       0.88      0.74      0.81       276\n",
      "\n",
      "    accuracy                           0.83      1105\n",
      "   macro avg       0.85      0.83      0.84      1105\n",
      "weighted avg       0.85      0.83      0.84      1105\n",
      "\n"
     ]
    }
   ],
   "source": [
    "#1. create a pipeline object\n",
    "clf=Pipeline([\n",
    "    ('vectorizer',CountVectorizer(ngram_range=(1,3))),\n",
    "    ('Multi NB',MultinomialNB())\n",
    "])\n",
    "\n",
    "#2. fit with X_train and y_train\n",
    "clf.fit(X_train,y_train)\n",
    "\n",
    "#3. get the predictions for X_test and store it in y_pred\n",
    "y_pred= clf.predict(X_test)\n",
    "\n",
    "#4. print the classification report\n",
    "print(classification_report(y_test,y_pred))"
   ]
  },
  {
   "cell_type": "markdown",
   "id": "33934d42-796a-4c74-983c-1c7a85c8d67a",
   "metadata": {},
   "source": [
    "**Use text preprocessing to remove stop words, punctuations and apply lemmatization**"
   ]
  },
  {
   "cell_type": "code",
   "execution_count": 13,
   "id": "d851520c-2142-41a2-a91c-a1119c4b501c",
   "metadata": {},
   "outputs": [],
   "source": [
    "import spacy\n",
    "\n",
    "#load english language model and create nlp object from it\n",
    "nlp= spacy.load(\"en_core_web_sm\")"
   ]
  },
  {
   "cell_type": "code",
   "execution_count": 14,
   "id": "669ca4c4-b18f-4fbd-98cf-77ea2a9d3493",
   "metadata": {},
   "outputs": [],
   "source": [
    "def preprocess(text):\n",
    "    doc= nlp(text)\n",
    "    filtered_tokens= []\n",
    "    for token in doc:\n",
    "        if token.is_stop or token.is_punct:\n",
    "            continue\n",
    "        filtered_tokens.append(token.lemma_)\n",
    "    return \" \".join(filtered_tokens)\n",
    "    "
   ]
  },
  {
   "cell_type": "code",
   "execution_count": 15,
   "id": "8e87522c-bd92-41b4-9e2a-bbda19ecbb9d",
   "metadata": {},
   "outputs": [],
   "source": [
    "df_balanced['preprocessed_text']= df_balanced.text.apply(preprocess)"
   ]
  },
  {
   "cell_type": "code",
   "execution_count": 16,
   "id": "0ae9c3ca-f928-44d8-b786-4db264a615ef",
   "metadata": {},
   "outputs": [
    {
     "data": {
      "text/html": [
       "<div>\n",
       "<style scoped>\n",
       "    .dataframe tbody tr th:only-of-type {\n",
       "        vertical-align: middle;\n",
       "    }\n",
       "\n",
       "    .dataframe tbody tr th {\n",
       "        vertical-align: top;\n",
       "    }\n",
       "\n",
       "    .dataframe thead th {\n",
       "        text-align: right;\n",
       "    }\n",
       "</style>\n",
       "<table border=\"1\" class=\"dataframe\">\n",
       "  <thead>\n",
       "    <tr style=\"text-align: right;\">\n",
       "      <th></th>\n",
       "      <th>text</th>\n",
       "      <th>category</th>\n",
       "      <th>category_num</th>\n",
       "      <th>preprocessed_text</th>\n",
       "    </tr>\n",
       "  </thead>\n",
       "  <tbody>\n",
       "    <tr>\n",
       "      <th>5790</th>\n",
       "      <td>Recycling Opens the Door to a Circular Economy...</td>\n",
       "      <td>BUSINESS</td>\n",
       "      <td>0</td>\n",
       "      <td>recycle Opens door Circular Economy recycling ...</td>\n",
       "    </tr>\n",
       "    <tr>\n",
       "      <th>6168</th>\n",
       "      <td>Beyond Silicon Valley: Using a MOOC to Build a...</td>\n",
       "      <td>BUSINESS</td>\n",
       "      <td>0</td>\n",
       "      <td>Silicon Valley mooc build Community Support Gl...</td>\n",
       "    </tr>\n",
       "    <tr>\n",
       "      <th>2965</th>\n",
       "      <td>Obstacles for Women in Business: The Comfort P...</td>\n",
       "      <td>BUSINESS</td>\n",
       "      <td>0</td>\n",
       "      <td>obstacle Women business Comfort Principle cons...</td>\n",
       "    </tr>\n",
       "    <tr>\n",
       "      <th>9320</th>\n",
       "      <td>Tesla Investigating Second Reported Crash In A...</td>\n",
       "      <td>BUSINESS</td>\n",
       "      <td>0</td>\n",
       "      <td>Tesla investigate second report Crash Autopilo...</td>\n",
       "    </tr>\n",
       "    <tr>\n",
       "      <th>3743</th>\n",
       "      <td>The Places That Most Desperately Need A Higher...</td>\n",
       "      <td>BUSINESS</td>\n",
       "      <td>0</td>\n",
       "      <td>place desperately need high Minimum Wage</td>\n",
       "    </tr>\n",
       "  </tbody>\n",
       "</table>\n",
       "</div>"
      ],
      "text/plain": [
       "                                                   text  category  \\\n",
       "5790  Recycling Opens the Door to a Circular Economy...  BUSINESS   \n",
       "6168  Beyond Silicon Valley: Using a MOOC to Build a...  BUSINESS   \n",
       "2965  Obstacles for Women in Business: The Comfort P...  BUSINESS   \n",
       "9320  Tesla Investigating Second Reported Crash In A...  BUSINESS   \n",
       "3743  The Places That Most Desperately Need A Higher...  BUSINESS   \n",
       "\n",
       "      category_num                                  preprocessed_text  \n",
       "5790             0  recycle Opens door Circular Economy recycling ...  \n",
       "6168             0  Silicon Valley mooc build Community Support Gl...  \n",
       "2965             0  obstacle Women business Comfort Principle cons...  \n",
       "9320             0  Tesla investigate second report Crash Autopilo...  \n",
       "3743             0           place desperately need high Minimum Wage  "
      ]
     },
     "execution_count": 16,
     "metadata": {},
     "output_type": "execute_result"
    }
   ],
   "source": [
    "df_balanced.head()"
   ]
  },
  {
   "cell_type": "markdown",
   "id": "cead252b-c2ab-4aef-b929-e58d19f712ed",
   "metadata": {},
   "source": [
    "**Build a model with preprocessed text**"
   ]
  },
  {
   "cell_type": "code",
   "execution_count": 17,
   "id": "beb2d9f4-d08a-433a-b253-ab43db050d11",
   "metadata": {},
   "outputs": [],
   "source": [
    "X_train, X_test, y_train, y_test= train_test_split(\n",
    "    df_balanced.preprocessed_text,\n",
    "    df_balanced.category_num,\n",
    "    test_size=0.2,\n",
    "    random_state=0,\n",
    "    stratify= df_balanced.category_num\n",
    ")"
   ]
  },
  {
   "cell_type": "code",
   "execution_count": 28,
   "id": "eea6e614-de37-4495-afb5-993018083d43",
   "metadata": {},
   "outputs": [
    {
     "name": "stdout",
     "output_type": "stream",
     "text": [
      "              precision    recall  f1-score   support\n",
      "\n",
      "           0       0.83      0.87      0.85       277\n",
      "           1       0.90      0.86      0.88       276\n",
      "           2       0.86      0.92      0.89       276\n",
      "           4       0.89      0.83      0.86       276\n",
      "\n",
      "    accuracy                           0.87      1105\n",
      "   macro avg       0.87      0.87      0.87      1105\n",
      "weighted avg       0.87      0.87      0.87      1105\n",
      "\n"
     ]
    }
   ],
   "source": [
    "#1. create a pipeline object\n",
    "clf= Pipeline([\n",
    "    ('vectorizer',CountVectorizer(ngram_range=(1,2))),\n",
    "    ('Multi NB',MultinomialNB())\n",
    "])\n",
    "\n",
    "#2. fit with X_train and y_train\n",
    "clf.fit(X_train,y_train)\n",
    "\n",
    "#3. get the predictions for X_test and store it in y_pred\n",
    "y_pred= clf.predict(X_test)\n",
    "\n",
    "#4. print the classification report\n",
    "print(classification_report(y_test,y_pred))"
   ]
  },
  {
   "cell_type": "code",
   "execution_count": 30,
   "id": "b036594b-11d0-4dac-aa3b-ce4d8d5e2bd7",
   "metadata": {},
   "outputs": [],
   "source": [
    "#If you compare above classification report for (1,2) gram with the one from unprocessed text, you will find some improvement in the model that uses preprocessed cleaned up text. Hence we can conclude that for this particular problem using preprocessing (removing stop words, lemmatization) is improving the performance of the model"
   ]
  },
  {
   "cell_type": "markdown",
   "id": "a1ac82e3-1762-4d74-a763-615fc9ee6756",
   "metadata": {},
   "source": [
    "**Plot confusion matrix**"
   ]
  },
  {
   "cell_type": "code",
   "execution_count": 31,
   "id": "9b512aed-973f-4c73-80fd-86eec047f19f",
   "metadata": {},
   "outputs": [
    {
     "data": {
      "text/plain": [
       "array([[241,  11,  11,  14],\n",
       "       [ 11, 237,  20,   8],\n",
       "       [ 11,   6, 254,   5],\n",
       "       [ 28,   8,  12, 228]])"
      ]
     },
     "execution_count": 31,
     "metadata": {},
     "output_type": "execute_result"
    }
   ],
   "source": [
    "from sklearn.metrics import confusion_matrix\n",
    "cm= confusion_matrix(y_test, y_pred)\n",
    "cm"
   ]
  },
  {
   "cell_type": "code",
   "execution_count": 37,
   "id": "b16dacd3-da07-4153-b6ad-1a640329eb85",
   "metadata": {},
   "outputs": [
    {
     "data": {
      "text/plain": [
       "Text(58.222222222222214, 0.5, 'Truth')"
      ]
     },
     "execution_count": 37,
     "metadata": {},
     "output_type": "execute_result"
    },
    {
     "data": {
      "image/png": "[encoded data removed]",
      "text/plain": [
       "<Figure size 700x500 with 2 Axes>"
      ]
     },
     "metadata": {},
     "output_type": "display_data"
    }
   ],
   "source": [
    "from matplotlib import pyplot as plt\n",
    "import seaborn as sn\n",
    "plt.figure(figsize=(7,5))\n",
    "sn.heatmap(cm, annot=True, fmt='d')\n",
    "plt.xlabel('Prediction')\n",
    "plt.ylabel('Truth')"
   ]
  },
  {
   "cell_type": "code",
   "execution_count": null,
   "id": "621539ca-d01a-4430-8dda-e29550fe5664",
   "metadata": {},
   "outputs": [],
   "source": []
  }
 ],
 "metadata": {
  "kernelspec": {
   "display_name": "Python 3 (ipykernel)",
   "language": "python",
   "name": "python3"
  },
  "language_info": {
   "codemirror_mode": {
    "name": "ipython",
    "version": 3
   },
   "file_extension": ".py",
   "mimetype": "text/x-python",
   "name": "python",
   "nbconvert_exporter": "python",
   "pygments_lexer": "ipython3",
   "version": "3.13.2"
  }
 },
 "nbformat": 4,
 "nbformat_minor": 5
}
